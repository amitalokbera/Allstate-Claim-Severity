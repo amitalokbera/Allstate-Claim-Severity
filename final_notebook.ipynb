{
 "cells": [
  {
   "cell_type": "code",
   "execution_count": 1,
   "id": "1bfacb0a-3bde-4308-aaf3-b60779c06b10",
   "metadata": {
    "execution": {
     "iopub.execute_input": "2022-03-11T20:13:10.708802Z",
     "iopub.status.busy": "2022-03-11T20:13:10.708362Z",
     "iopub.status.idle": "2022-03-11T20:13:12.564785Z",
     "shell.execute_reply": "2022-03-11T20:13:12.564198Z",
     "shell.execute_reply.started": "2022-03-11T20:13:10.708745Z"
    }
   },
   "outputs": [],
   "source": [
    "#Importing all the necessary libraries\n",
    "import pandas as pd    \n",
    "import numpy as np \n",
    "import sklearn\n",
    "import sklearn.metrics\n",
    "from sklearn.metrics import mean_absolute_error as mae\n",
    "from sklearn.preprocessing import StandardScaler\n",
    "from sklearn import preprocessing\n",
    "from scipy import stats\n",
    "import warnings \n",
    "from sklearn.ensemble import StackingRegressor\n",
    "from sklearn.preprocessing import StandardScaler\n",
    "from joblib import dump, load\n",
    "\n",
    "global random_state\n",
    "random_state = 42\n",
    "warnings.filterwarnings('ignore')"
   ]
  },
  {
   "cell_type": "code",
   "execution_count": 2,
   "id": "1cacd9a6-293c-4c49-8ad6-8bb6388cd93a",
   "metadata": {},
   "outputs": [],
   "source": [
    "#Defining the custom objective function for xgboost model which take cares for rmse and mae\n",
    "def obj(preds, dtrain):\n",
    "    labels = dtrain.get_label()\n",
    "    c = 1.5\n",
    "    x = preds - labels\n",
    "    grad = c * x /(np.abs(x) + c)\n",
    "    hess = c ** 2 / (np.abs(x) + c) ** 2\n",
    "    grad_rmse = x\n",
    "    hess_rmse = 1.0\n",
    "    grad_mae = np.array(x)\n",
    "    grad_mae[grad_mae > 0] = 1.\n",
    "    grad_mae[grad_mae <= 0] = -1.\n",
    "    hess_mae = 1.0\n",
    "    coef = [0.7, 0.15, 0.15]\n",
    "    return coef[0] * grad + coef[1] * grad_rmse + coef[2] * grad_mae, coef[0] * hess + coef[1] * hess_rmse + coef[2] * hess_mae\n"
   ]
  },
  {
   "cell_type": "code",
   "execution_count": 3,
   "id": "2bb14426",
   "metadata": {},
   "outputs": [],
   "source": [
    "#While loading the model pickle file, i need to run obj function, or else I am getting class import error\n",
    "model = load('estimator.joblib')"
   ]
  },
  {
   "cell_type": "code",
   "execution_count": 4,
   "id": "dac9539d",
   "metadata": {},
   "outputs": [],
   "source": [
    "def load_data():\n",
    "    cat_name = ['cat'+str(x) for x in range(1,117)]\n",
    "    cont_name = ['cont'+str(x) for x in range(1,15)]\n",
    "    boxcox_cont = load('all_cont.joblib')\n",
    "\n",
    "    xgb_excel = pd.read_excel('xgb_hist.xlsx',sheet_name='Interaction Depth 1')\n",
    "    two_way = []\n",
    "    for i in xgb_excel['Interaction'].values:\n",
    "        temp = i.split('|')\n",
    "        if 'cont' not in temp[0] and 'cont' not in temp[1]:\n",
    "            two_way.append(i)\n",
    "    two_way = two_way[:40]\n",
    "    return two_way, cat_name, cont_name, boxcox_cont\n",
    "\n",
    "def lexical_encoding(charcode):\n",
    "    r = 0\n",
    "    ln = len(str(charcode))\n",
    "    for i in range(ln):\n",
    "        r += (ord(str(charcode)[i]) - ord('A') + 1) * 26 ** (ln - i - 1)\n",
    "    return r\n",
    "\n",
    "two_way, cat_name, cont_name, boxcox_cont = load_data()\n",
    "def preprocess_data(row, cat_name=cat_name, cont_name=cont_name, two_way=two_way,\n",
    "                    boxcox_cont=boxcox_cont):\n",
    "    data = pd.DataFrame(columns=cat_name+cont_name)\n",
    "    data.loc[0] = row\n",
    "    for i in cont_name:\n",
    "        temp_data = boxcox_cont[i][0].tolist()\n",
    "        temp_data = [data[i].values[0]] + temp_data\n",
    "        temp_data = np.array(temp_data)\n",
    "        temp, _ = stats.boxcox(temp_data + 1)\n",
    "        data.loc[0, i] = temp[0]\n",
    "    drop_col = ['cat15', 'cat22', 'cat55', 'cat56', 'cat62', 'cat63', 'cat64', 'cat68', 'cat70']\n",
    "    data.drop(drop_col, axis=1, inplace=True)\n",
    "    cat_name2 = [x for x in cat_name if x not in drop_col]\n",
    "    for i in cat_name2:\n",
    "        data[i] = data[i].apply(lexical_encoding)\n",
    "    for i in two_way:\n",
    "        features = i.split('|')\n",
    "        concat_name = i.replace('|','_')\n",
    "        mul_name = i.replace('|','*')\n",
    "        data[concat_name] = data[features[0]].astype(str)  + data[features[1]].astype(str) \n",
    "        data[concat_name] = data[concat_name].astype(int)\n",
    "        data[mul_name] = data[features[0]].astype(float) * data[features[1]].astype(float)\n",
    "    return data.values \n",
    "\n",
    "def decode_log_200(data):\n",
    "    return np.exp(data)-200"
   ]
  },
  {
   "cell_type": "code",
   "execution_count": 5,
   "id": "439b2405",
   "metadata": {},
   "outputs": [],
   "source": [
    "#Prediciting on single row or multiple row\n",
    "def predict_point(row, model=model):\n",
    "    df = pd.DataFrame(columns=['row'+str(x) for x in range(201)])\n",
    "    if len(row) == 1:\n",
    "        df.loc[0] = preprocess_data(row[0])[0]\n",
    "    else:\n",
    "        for i,v in enumerate(row):\n",
    "            df.loc[i] = preprocess_data(v)[0]\n",
    "    pred = model.predict(df.astype(float))\n",
    "    return [decode_log_200(x) for x in pred]\n",
    "\n",
    "#Prediciting on single or multiple row and return the mae score\n",
    "def predict_point_score(row, model=model):\n",
    "    df = pd.DataFrame(columns=['row'+str(x) for x in range(201)])\n",
    "    gt = []\n",
    "    if len(row) == 1:\n",
    "        gt.append(row[0][-1])\n",
    "        df.loc[0] = preprocess_data(row[0][:-1])[0]\n",
    "    else:\n",
    "        for i,v in enumerate(row):\n",
    "            gt.append(v[-1])\n",
    "            df.loc[i] = preprocess_data(v[:-1])[0]\n",
    "    pred = model.predict(df.astype(float))\n",
    "    return mae(gt, [decode_log_200(x) for x in pred])\n"
   ]
  },
  {
   "cell_type": "code",
   "execution_count": 6,
   "id": "a5140f30",
   "metadata": {},
   "outputs": [],
   "source": [
    "#Predicitng on single point\n",
    "datapoint = ['A', 'B', 'A', 'B', 'A', 'A', 'A', 'A', 'B', 'A', 'B', 'A', 'A',\n",
    "       'A', 'A', 'A', 'A', 'A', 'A', 'A', 'A', 'A', 'B', 'A', 'A', 'A',\n",
    "       'A', 'A', 'A', 'A', 'A', 'A', 'A', 'A', 'A', 'A', 'A', 'A', 'A',\n",
    "       'A', 'A', 'A', 'A', 'A', 'A', 'A', 'A', 'A', 'A', 'A', 'A', 'A',\n",
    "       'A', 'A', 'A', 'A', 'A', 'A', 'A', 'A', 'A', 'A', 'A', 'A', 'A',\n",
    "       'A', 'A', 'A', 'A', 'A', 'A', 'A', 'A', 'A', 'B', 'A', 'D', 'B',\n",
    "       'B', 'D', 'D', 'B', 'D', 'C', 'B', 'D', 'B', 'A', 'A', 'A', 'A',\n",
    "       'A', 'D', 'B', 'C', 'E', 'A', 'C', 'T', 'B', 'G', 'A', 'A', 'I',\n",
    "       'E', 'G', 'J', 'G', 'BU', 'BC', 'C', 'AS', 'S', 'A', 'O', 'LB',\n",
    "       0.7263, 0.245921, 0.187583, 0.789639, 0.310061, 0.718367, 0.33506,\n",
    "       0.3026, 0.67135, 0.8351, 0.569745, 0.594646, 0.822493, 0.714843,\n",
    "       2213.18]"
   ]
  },
  {
   "cell_type": "code",
   "execution_count": 7,
   "id": "d0ab9ea6",
   "metadata": {},
   "outputs": [
    {
     "name": "stdout",
     "output_type": "stream",
     "text": [
      "CPU times: total: 1.89 s\n",
      "Wall time: 1.73 s\n"
     ]
    },
    {
     "data": {
      "text/plain": [
       "[1788.7597788686137]"
      ]
     },
     "execution_count": 7,
     "metadata": {},
     "output_type": "execute_result"
    }
   ],
   "source": [
    "%%time \n",
    "predict_point([datapoint[:-1]])"
   ]
  },
  {
   "cell_type": "code",
   "execution_count": 9,
   "id": "2531123b",
   "metadata": {},
   "outputs": [
    {
     "data": {
      "text/plain": [
       "424.42022113138614"
      ]
     },
     "execution_count": 9,
     "metadata": {},
     "output_type": "execute_result"
    }
   ],
   "source": [
    "predict_point_score([datapoint])"
   ]
  }
 ],
 "metadata": {
  "kernelspec": {
   "display_name": "Python 3 (ipykernel)",
   "language": "python",
   "name": "python3"
  },
  "language_info": {
   "codemirror_mode": {
    "name": "ipython",
    "version": 3
   },
   "file_extension": ".py",
   "mimetype": "text/x-python",
   "name": "python",
   "nbconvert_exporter": "python",
   "pygments_lexer": "ipython3",
   "version": "3.10.4"
  }
 },
 "nbformat": 4,
 "nbformat_minor": 5
}
