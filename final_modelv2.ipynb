{
 "cells": [
  {
   "cell_type": "code",
   "execution_count": 1,
   "id": "1bfacb0a-3bde-4308-aaf3-b60779c06b10",
   "metadata": {
    "execution": {
     "iopub.execute_input": "2022-03-11T20:13:10.708802Z",
     "iopub.status.busy": "2022-03-11T20:13:10.708362Z",
     "iopub.status.idle": "2022-03-11T20:13:12.564785Z",
     "shell.execute_reply": "2022-03-11T20:13:12.564198Z",
     "shell.execute_reply.started": "2022-03-11T20:13:10.708745Z"
    }
   },
   "outputs": [
    {
     "name": "stderr",
     "output_type": "stream",
     "text": [
      "C:\\Users\\Amit Bera\\AppData\\Local\\Programs\\Python\\Python310\\lib\\site-packages\\tqdm\\auto.py:22: TqdmWarning: IProgress not found. Please update jupyter and ipywidgets. See https://ipywidgets.readthedocs.io/en/stable/user_install.html\n",
      "  from .autonotebook import tqdm as notebook_tqdm\n"
     ]
    }
   ],
   "source": [
    "#Importing all the necessary libraries\n",
    "import pandas as pd    \n",
    "import numpy as np \n",
    "import sklearn\n",
    "from sklearn import preprocessing\n",
    "from sklearn import decomposition\n",
    "import sklearn.metrics\n",
    "from sklearn.model_selection import train_test_split\n",
    "from sklearn.metrics import mean_absolute_error as mae\n",
    "from sklearn.preprocessing import StandardScaler\n",
    "from sklearn.model_selection import StratifiedKFold\n",
    "from sklearn.preprocessing import StandardScaler\n",
    "from sklearn import preprocessing\n",
    "from sklearn.model_selection import RandomizedSearchCV\n",
    "from sklearn.model_selection import KFold\n",
    "import catboost\n",
    "import matplotlib.pyplot as plt\n",
    "from operator import itemgetter\n",
    "import scipy\n",
    "import string\n",
    "import xgboost\n",
    "from tqdm import tqdm\n",
    "import xgbfir\n",
    "from scipy import stats\n",
    "from sklearn.ensemble import StackingRegressor\n",
    "import optuna\n",
    "import math\n",
    "import itertools\n",
    "import pickle\n",
    "import warnings \n",
    "import seaborn as sns\n",
    "import lightgbm\n",
    "from sklearn.tree import DecisionTreeRegressor\n",
    "from sklearn.ensemble import RandomForestRegressor\n",
    "from sklearn.linear_model import Ridge\n",
    "from sklearn.ensemble import StackingRegressor\n",
    "from sklearn.linear_model import LinearRegression\n",
    "from sklearn.svm import SVR\n",
    "from sklearn.pipeline import make_pipeline\n",
    "from sklearn.preprocessing import StandardScaler\n",
    "\n",
    "global random_state\n",
    "random_state = 42\n",
    "warnings.filterwarnings('ignore')"
   ]
  },
  {
   "cell_type": "code",
   "execution_count": 2,
   "id": "005a50ca-3a5f-4b11-af67-bf684512e9d2",
   "metadata": {
    "execution": {
     "iopub.execute_input": "2022-03-11T20:15:23.246347Z",
     "iopub.status.busy": "2022-03-11T20:15:23.245962Z",
     "iopub.status.idle": "2022-03-11T20:15:24.779911Z",
     "shell.execute_reply": "2022-03-11T20:15:24.779331Z",
     "shell.execute_reply.started": "2022-03-11T20:15:23.246328Z"
    },
    "tags": []
   },
   "outputs": [
    {
     "data": {
      "text/html": [
       "<div>\n",
       "<style scoped>\n",
       "    .dataframe tbody tr th:only-of-type {\n",
       "        vertical-align: middle;\n",
       "    }\n",
       "\n",
       "    .dataframe tbody tr th {\n",
       "        vertical-align: top;\n",
       "    }\n",
       "\n",
       "    .dataframe thead th {\n",
       "        text-align: right;\n",
       "    }\n",
       "</style>\n",
       "<table border=\"1\" class=\"dataframe\">\n",
       "  <thead>\n",
       "    <tr style=\"text-align: right;\">\n",
       "      <th></th>\n",
       "      <th>id</th>\n",
       "      <th>cat1</th>\n",
       "      <th>cat2</th>\n",
       "      <th>cat3</th>\n",
       "      <th>cat4</th>\n",
       "      <th>cat5</th>\n",
       "      <th>cat6</th>\n",
       "      <th>cat7</th>\n",
       "      <th>cat8</th>\n",
       "      <th>cat9</th>\n",
       "      <th>...</th>\n",
       "      <th>cont6</th>\n",
       "      <th>cont7</th>\n",
       "      <th>cont8</th>\n",
       "      <th>cont9</th>\n",
       "      <th>cont10</th>\n",
       "      <th>cont11</th>\n",
       "      <th>cont12</th>\n",
       "      <th>cont13</th>\n",
       "      <th>cont14</th>\n",
       "      <th>loss</th>\n",
       "    </tr>\n",
       "  </thead>\n",
       "  <tbody>\n",
       "    <tr>\n",
       "      <th>0</th>\n",
       "      <td>1</td>\n",
       "      <td>A</td>\n",
       "      <td>B</td>\n",
       "      <td>A</td>\n",
       "      <td>B</td>\n",
       "      <td>A</td>\n",
       "      <td>A</td>\n",
       "      <td>A</td>\n",
       "      <td>A</td>\n",
       "      <td>B</td>\n",
       "      <td>...</td>\n",
       "      <td>0.718367</td>\n",
       "      <td>0.335060</td>\n",
       "      <td>0.30260</td>\n",
       "      <td>0.67135</td>\n",
       "      <td>0.83510</td>\n",
       "      <td>0.569745</td>\n",
       "      <td>0.594646</td>\n",
       "      <td>0.822493</td>\n",
       "      <td>0.714843</td>\n",
       "      <td>2213.18</td>\n",
       "    </tr>\n",
       "    <tr>\n",
       "      <th>1</th>\n",
       "      <td>2</td>\n",
       "      <td>A</td>\n",
       "      <td>B</td>\n",
       "      <td>A</td>\n",
       "      <td>A</td>\n",
       "      <td>A</td>\n",
       "      <td>A</td>\n",
       "      <td>A</td>\n",
       "      <td>A</td>\n",
       "      <td>B</td>\n",
       "      <td>...</td>\n",
       "      <td>0.438917</td>\n",
       "      <td>0.436585</td>\n",
       "      <td>0.60087</td>\n",
       "      <td>0.35127</td>\n",
       "      <td>0.43919</td>\n",
       "      <td>0.338312</td>\n",
       "      <td>0.366307</td>\n",
       "      <td>0.611431</td>\n",
       "      <td>0.304496</td>\n",
       "      <td>1283.60</td>\n",
       "    </tr>\n",
       "  </tbody>\n",
       "</table>\n",
       "<p>2 rows × 132 columns</p>\n",
       "</div>"
      ],
      "text/plain": [
       "   id cat1 cat2 cat3 cat4 cat5 cat6 cat7 cat8 cat9  ...     cont6     cont7  \\\n",
       "0   1    A    B    A    B    A    A    A    A    B  ...  0.718367  0.335060   \n",
       "1   2    A    B    A    A    A    A    A    A    B  ...  0.438917  0.436585   \n",
       "\n",
       "     cont8    cont9   cont10    cont11    cont12    cont13    cont14     loss  \n",
       "0  0.30260  0.67135  0.83510  0.569745  0.594646  0.822493  0.714843  2213.18  \n",
       "1  0.60087  0.35127  0.43919  0.338312  0.366307  0.611431  0.304496  1283.60  \n",
       "\n",
       "[2 rows x 132 columns]"
      ]
     },
     "execution_count": 2,
     "metadata": {},
     "output_type": "execute_result"
    }
   ],
   "source": [
    "#Reading the train dataset\n",
    "df = pd.read_csv(\"..\\\\dataset\\\\train.csv\")\n",
    "df.head(2)"
   ]
  },
  {
   "cell_type": "code",
   "execution_count": 3,
   "id": "568a57c8-b262-4d3b-ae37-40b265ea2c8e",
   "metadata": {
    "execution": {
     "iopub.execute_input": "2022-03-11T20:15:24.781384Z",
     "iopub.status.busy": "2022-03-11T20:15:24.781175Z",
     "iopub.status.idle": "2022-03-11T20:15:24.955677Z",
     "shell.execute_reply": "2022-03-11T20:15:24.955150Z",
     "shell.execute_reply.started": "2022-03-11T20:15:24.781364Z"
    },
    "tags": []
   },
   "outputs": [],
   "source": [
    "#Dropping the id column \n",
    "target = pd.DataFrame()\n",
    "data = df.drop(['id','loss'],axis=1)\n",
    "target['loss'] = df['loss']"
   ]
  },
  {
   "cell_type": "code",
   "execution_count": 4,
   "id": "a3e04483-e35e-499c-9dd6-30b71dce96e7",
   "metadata": {
    "execution": {
     "iopub.execute_input": "2022-03-11T20:15:24.956650Z",
     "iopub.status.busy": "2022-03-11T20:15:24.956379Z",
     "iopub.status.idle": "2022-03-11T20:15:24.983238Z",
     "shell.execute_reply": "2022-03-11T20:15:24.982735Z",
     "shell.execute_reply.started": "2022-03-11T20:15:24.956635Z"
    },
    "tags": []
   },
   "outputs": [],
   "source": [
    "#Applying normaliztion to loss column\n",
    "loss_log = np.log(target['loss'] + 1)\n",
    "target['normalized_log_loss'] = (loss_log-loss_log.min())/(loss_log.max()-loss_log.min())\n",
    "\n",
    "#Log tansformation plus shifting its value by 200\n",
    "target['log_200'] =  np.log(target['loss'] + 200)\n",
    "\n",
    "#Loss tansformation\n",
    "target['loss_tranform'] = target['loss']**0.25\n",
    "\n",
    "#Loss Transformation - (1 + loss)**0.25\n",
    "target['log_loss_transform'] = (1 + target['loss'])**0.25\n",
    "\n",
    "#Log tansformation plus shifting its value by 200\n",
    "target['log_100'] =  np.log(target['loss'] + 100)\n",
    "\n",
    "#Dividing by 10\n",
    "target['loss_d10'] =  10/target['loss']\n",
    "\n",
    "#Dividing by 10 and appying log\n",
    "target['log_d10'] =  np.log(10/target['loss'])\n",
    "\n",
    "#Loss tansformation\n",
    "target['loss_tranform_50'] = target['loss']**0.5\n",
    "\n",
    "#Loss Transformation - (1 + loss)**0.50\n",
    "target['log_loss_transform_50'] = np.log((1 + target['loss'])**0.50)"
   ]
  },
  {
   "cell_type": "code",
   "execution_count": 5,
   "id": "9fc7f07a-5db7-4438-b342-644f48841e6c",
   "metadata": {
    "execution": {
     "iopub.execute_input": "2022-03-11T20:15:26.350682Z",
     "iopub.status.busy": "2022-03-11T20:15:26.350315Z",
     "iopub.status.idle": "2022-03-11T20:15:26.356576Z",
     "shell.execute_reply": "2022-03-11T20:15:26.355912Z",
     "shell.execute_reply.started": "2022-03-11T20:15:26.350662Z"
    }
   },
   "outputs": [],
   "source": [
    "#All the decoding function which will revert back our transformed loss value to original loss value\n",
    "def decode_normalized_log_loss(data):\n",
    "    lmin, lmax = 0.5128236264286637, 11.703655322715969\n",
    "    denormalized = data * (lmax - lmin) + lmin\n",
    "    return np.exp(denormalized) - 1\n",
    "\n",
    "def decode_log_200(data):\n",
    "    return np.exp(data)-200\n",
    "\n",
    "def decode_loss_tranform(data):\n",
    "    return data**(1/float(0.25))\n",
    "\n",
    "def decode_log_loss_transform(data):\n",
    "    return data**(1/float(0.25)) - 1\n",
    "\n",
    "def decode_log_100(data):\n",
    "    return np.exp(data) - 100\n",
    "\n",
    "def decode_loss_d10(data):\n",
    "    return 10/data\n",
    "\n",
    "def decode_log_d10(data):\n",
    "    return 10/np.exp(data)\n",
    "\n",
    "def decode_loss_tranform_50(data):\n",
    "    return data**(1/float(0.50))\n",
    "\n",
    "def decode_log_loss_transform_50(data):\n",
    "    data = np.exp(data)\n",
    "    return data**(1/float(0.50)) - 1"
   ]
  },
  {
   "cell_type": "code",
   "execution_count": 6,
   "id": "e11fbce2-6671-4924-a449-90b33d3d023c",
   "metadata": {
    "execution": {
     "iopub.execute_input": "2022-03-11T20:15:26.652829Z",
     "iopub.status.busy": "2022-03-11T20:15:26.652530Z",
     "iopub.status.idle": "2022-03-11T20:15:26.656072Z",
     "shell.execute_reply": "2022-03-11T20:15:26.655634Z",
     "shell.execute_reply.started": "2022-03-11T20:15:26.652790Z"
    }
   },
   "outputs": [],
   "source": [
    "#Storing all the columns names\n",
    "cat_name = ['cat'+str(x) for x in range(1,117)]\n",
    "cont_name = ['cont'+str(x) for x in range(1,15)]"
   ]
  },
  {
   "cell_type": "code",
   "execution_count": 7,
   "id": "b962fff9-fa9c-4274-b4d8-f23e81c8cf86",
   "metadata": {
    "execution": {
     "iopub.execute_input": "2022-03-11T20:15:26.994699Z",
     "iopub.status.busy": "2022-03-11T20:15:26.994408Z",
     "iopub.status.idle": "2022-03-11T20:15:28.777249Z",
     "shell.execute_reply": "2022-03-11T20:15:28.776653Z",
     "shell.execute_reply.started": "2022-03-11T20:15:26.994681Z"
    }
   },
   "outputs": [],
   "source": [
    "#Applying BOX-COX transformation to All numerical columns\n",
    "for i in cont_name:\n",
    "    data[i], fitted_lambda = stats.boxcox(data[i] + 1)"
   ]
  },
  {
   "cell_type": "code",
   "execution_count": 8,
   "id": "eb9ae4e3-3484-4acf-8aa7-a2a4eaae028e",
   "metadata": {
    "execution": {
     "iopub.execute_input": "2022-03-11T20:15:28.778509Z",
     "iopub.status.busy": "2022-03-11T20:15:28.778248Z",
     "iopub.status.idle": "2022-03-11T20:15:30.009024Z",
     "shell.execute_reply": "2022-03-11T20:15:30.008267Z",
     "shell.execute_reply.started": "2022-03-11T20:15:28.778493Z"
    }
   },
   "outputs": [
    {
     "name": "stdout",
     "output_type": "stream",
     "text": [
      "['cat15', 'cat22', 'cat55', 'cat56', 'cat62', 'cat63', 'cat64', 'cat68', 'cat70']\n"
     ]
    }
   ],
   "source": [
    "#Removing all the columns where same value is repeated for 99.9% of time\n",
    "zero_variance = {}\n",
    "for i in cat_name:\n",
    "    val_counts = dict(data[i].value_counts())\n",
    "    max_key = max(val_counts, key=val_counts.get)\n",
    "    \n",
    "    var = val_counts[max_key]/len(data[i].values)\n",
    "    if var >= 0.999:\n",
    "        zero_variance[i] = var\n",
    "\n",
    "data = data.drop(zero_variance.keys(), axis = 1)\n",
    "cat_name = [x for x in cat_name if x not in zero_variance.keys()]\n",
    "drop_col = list(zero_variance.keys())\n",
    "print(drop_col)"
   ]
  },
  {
   "cell_type": "code",
   "execution_count": 9,
   "id": "28586960-bb2a-4644-a84f-112d157343ea",
   "metadata": {
    "execution": {
     "iopub.execute_input": "2022-03-11T20:15:30.010055Z",
     "iopub.status.busy": "2022-03-11T20:15:30.009780Z",
     "iopub.status.idle": "2022-03-11T20:15:57.646051Z",
     "shell.execute_reply": "2022-03-11T20:15:57.645416Z",
     "shell.execute_reply.started": "2022-03-11T20:15:30.010038Z"
    }
   },
   "outputs": [
    {
     "name": "stderr",
     "output_type": "stream",
     "text": [
      "100%|██████████| 107/107 [00:18<00:00,  5.84it/s]\n"
     ]
    }
   ],
   "source": [
    "#Applying lexical encoding to all categorical data\n",
    "def lexical_encoding(charcode):\n",
    "    r = 0\n",
    "    ln = len(str(charcode))\n",
    "    for i in range(ln):\n",
    "        r += (ord(str(charcode)[i]) - ord('A') + 1) * 26 ** (ln - i - 1)\n",
    "    return r\n",
    "\n",
    "#Lexical Encoding on Categorical Data\n",
    "for i in tqdm(cat_name):\n",
    "    data[i] = data[i].apply(lexical_encoding)"
   ]
  },
  {
   "cell_type": "code",
   "execution_count": 10,
   "id": "62cdb5e2-9020-4d26-9348-b00e1a275cb8",
   "metadata": {
    "execution": {
     "iopub.execute_input": "2022-03-11T20:15:57.647387Z",
     "iopub.status.busy": "2022-03-11T20:15:57.647195Z",
     "iopub.status.idle": "2022-03-11T20:15:59.271426Z",
     "shell.execute_reply": "2022-03-11T20:15:59.270798Z",
     "shell.execute_reply.started": "2022-03-11T20:15:57.647370Z"
    }
   },
   "outputs": [],
   "source": [
    "#Train_test_split using stratified binned data\n",
    "#Here i have used percentile data to binned the loss data\n",
    "all_bin = [np.percentile(np.abs(target['loss']),i) for i in range(0,100)]\n",
    "def bin_type(value):\n",
    "    for i in range(len(all_bin)):\n",
    "        if value <= all_bin[i]:\n",
    "            return i\n",
    "\n",
    "\n",
    "target['binned'] = target['loss'].apply(np.abs).apply(bin_type).fillna(100.0)\n",
    "target = target[target['binned'] != 0.0]\n",
    "data = data.loc[target.index]\n",
    "X_train, X_test, y_train, y_test = train_test_split(data, target, test_size=0.10, random_state=random_state, stratify=target['binned'])"
   ]
  },
  {
   "cell_type": "code",
   "execution_count": 11,
   "id": "1289a7a8-2b2b-4fad-9ea2-e1acfd6b242f",
   "metadata": {
    "execution": {
     "iopub.status.busy": "2022-03-11T20:15:59.281606Z",
     "iopub.status.idle": "2022-03-11T20:15:59.281812Z",
     "shell.execute_reply": "2022-03-11T20:15:59.281716Z",
     "shell.execute_reply.started": "2022-03-11T20:15:59.281705Z"
    }
   },
   "outputs": [
    {
     "data": {
      "text/plain": [
       "<AxesSubplot:xlabel='log_200', ylabel='Density'>"
      ]
     },
     "execution_count": 11,
     "metadata": {},
     "output_type": "execute_result"
    },
    {
     "data": {
      "image/png": "[encoded data removed]",
      "text/plain": [
       "<Figure size 1440x576 with 2 Axes>"
      ]
     },
     "metadata": {
      "needs_background": "light"
     },
     "output_type": "display_data"
    }
   ],
   "source": [
    "#Checking the distribution of train and test loss value\n",
    "fig, ax = plt.subplots(1,2,figsize=(20,8))\n",
    "sns.distplot(y_train['log_200'],hist=False, ax=ax[0])\n",
    "sns.distplot(y_test['log_200'],hist=False, ax=ax[1])"
   ]
  },
  {
   "cell_type": "code",
   "execution_count": 12,
   "id": "ff7b89e6-e8a0-4f4f-9385-c45ccd5b6e32",
   "metadata": {},
   "outputs": [],
   "source": [
    "#Training a XGBoost model, to retrieve two feature interaction using xgbfir library\n",
    "xgb = xgboost.XGBRegressor(tree_method='gpu_hist',n_jobs=-1,random_state=random_state,seed=random_state)\n",
    "xgb.fit(X_train,y_train['log_loss_transform'])\n",
    "xgbfir.saveXgbFI(xgb, cat_name + cont_name, 'xgb_hist.xlsx')"
   ]
  },
  {
   "cell_type": "code",
   "execution_count": 13,
   "id": "3679d9a4-59e2-467a-8f92-e65c27acd9bf",
   "metadata": {},
   "outputs": [],
   "source": [
    "#After testing out with various value, I have found out that using only the top 40 value from two-way feature interaction helps our xgboost model to perform better\n",
    "xgb_excel = pd.read_excel('xgb_hist.xlsx',sheet_name='Interaction Depth 1')\n",
    "two_way = []\n",
    "for i in xgb_excel['Interaction'].values:\n",
    "    temp = i.split('|')\n",
    "    if 'cont' not in temp[0] and 'cont' not in temp[1]:\n",
    "        two_way.append(i)\n",
    "two_way = two_way[:40]"
   ]
  },
  {
   "cell_type": "code",
   "execution_count": 14,
   "id": "68c90432-a8af-4011-ba9e-733b9cc45f0f",
   "metadata": {},
   "outputs": [
    {
     "name": "stderr",
     "output_type": "stream",
     "text": [
      "100%|██████████| 40/40 [00:04<00:00,  8.70it/s]\n"
     ]
    }
   ],
   "source": [
    "#Here I am concatenating and adding two way feature interaction columns\n",
    "#After concatenation, I am converting all those value as int value\n",
    "#Using this concatenation features, mae score of xgboost decrease quite a bit (This was confirmed using 10-fold CV and default XGBRegressor model)\n",
    "data_ = data.copy()\n",
    "for i in tqdm(two_way):\n",
    "    features = i.split('|')\n",
    "    concat_name = i.replace('|','_')\n",
    "    mul_name = i.replace('|','*')\n",
    "    data_[concat_name] = data_[features[0]].astype(str) + data_[features[1]].astype(str)\n",
    "    data_[concat_name] = data_[concat_name].astype(int)\n",
    "    data_[mul_name] = data_[features[0]].astype(float) + data_[features[1]].astype(float)"
   ]
  },
  {
   "cell_type": "code",
   "execution_count": 15,
   "id": "4bff4eba",
   "metadata": {},
   "outputs": [],
   "source": [
    "X_train, X_test, y_train, y_test = train_test_split(data_, target, test_size=0.10, random_state=random_state, stratify=target['binned'])"
   ]
  },
  {
   "cell_type": "code",
   "execution_count": 25,
   "id": "c0d9fd8b",
   "metadata": {},
   "outputs": [
    {
     "data": {
      "text/plain": [
       "1268.6543994356348"
      ]
     },
     "execution_count": 25,
     "metadata": {},
     "output_type": "execute_result"
    }
   ],
   "source": [
    "#LinearRegression\n",
    "lr = LinearRegression()\n",
    "lr.fit(X_train, y_train['log_200'])\n",
    "lr_pred = lr.predict(X_test)\n",
    "lr_pred = [decode_log_200(x) for x in lr_pred]\n",
    "mae(lr_pred, y_test['loss'])"
   ]
  },
  {
   "cell_type": "code",
   "execution_count": 27,
   "id": "1cd3bca4",
   "metadata": {},
   "outputs": [
    {
     "data": {
      "text/plain": [
       "1268.6550146795075"
      ]
     },
     "execution_count": 27,
     "metadata": {},
     "output_type": "execute_result"
    }
   ],
   "source": [
    "#RidgeRegression\n",
    "ridge_reg = Ridge(alpha=0.1)\n",
    "ridge_reg.fit(X_train, y_train['log_200'])\n",
    "ridge_pred = ridge_reg.predict(X_test)\n",
    "ridge_pred = [decode_log_200(x) for x in ridge_pred]\n",
    "mae(ridge_pred, y_test['loss'])"
   ]
  },
  {
   "cell_type": "code",
   "execution_count": 21,
   "id": "38e29132",
   "metadata": {},
   "outputs": [
    {
     "data": {
      "text/plain": [
       "1735.9575918649107"
      ]
     },
     "execution_count": 21,
     "metadata": {},
     "output_type": "execute_result"
    }
   ],
   "source": [
    "#DecisionTreeRegression\n",
    "dt_reg = DecisionTreeRegressor()\n",
    "dt_reg.fit(X_train, y_train['log_200'])\n",
    "dt_pred = dt_reg.predict(X_test)\n",
    "dt_pred = [decode_log_200(x) for x in dt_pred]\n",
    "mae(dt_pred, y_test['loss'])"
   ]
  },
  {
   "cell_type": "code",
   "execution_count": 20,
   "id": "cdb5dfae",
   "metadata": {},
   "outputs": [
    {
     "data": {
      "text/plain": [
       "1201.1035387806473"
      ]
     },
     "execution_count": 20,
     "metadata": {},
     "output_type": "execute_result"
    }
   ],
   "source": [
    "#RandomForestRegression\n",
    "rf_reg = RandomForestRegressor(n_jobs=-1)\n",
    "rf_reg.fit(X_train, y_train['log_200'])\n",
    "rf_pred = rf_reg.predict(X_test)\n",
    "rf_pred = [decode_log_200(x) for x in rf_pred]\n",
    "mae(rf_pred, y_test['loss'])"
   ]
  },
  {
   "cell_type": "code",
   "execution_count": 17,
   "id": "1cacd9a6-293c-4c49-8ad6-8bb6388cd93a",
   "metadata": {},
   "outputs": [],
   "source": [
    "#Defining the custom objective function for xgboost model which take cares for rmse and mae\n",
    "def obj(preds, dtrain):\n",
    "    labels = dtrain.get_label()\n",
    "    c = 1.5\n",
    "    x = preds - labels\n",
    "    grad = c * x /(np.abs(x) + c)\n",
    "    hess = c ** 2 / (np.abs(x) + c) ** 2\n",
    "    grad_rmse = x\n",
    "    hess_rmse = 1.0\n",
    "    grad_mae = np.array(x)\n",
    "    grad_mae[grad_mae > 0] = 1.\n",
    "    grad_mae[grad_mae <= 0] = -1.\n",
    "    hess_mae = 1.0\n",
    "    coef = [0.7, 0.15, 0.15]\n",
    "    return coef[0] * grad + coef[1] * grad_rmse + coef[2] * grad_mae, coef[0] * hess + coef[1] * hess_rmse + coef[2] * hess_mae\n",
    "\n",
    "#Over here I am evaluating model on mse score, as it helps to reduce error on bigger loss value\n",
    "def xg_eval_mae(yhat, dtrain):\n",
    "    y = dtrain.get_label()\n",
    "    return 'mse', mae(decode_log_loss_transform(y),decode_log_loss_transform(yhat))"
   ]
  },
  {
   "cell_type": "code",
   "execution_count": 19,
   "id": "88c78526",
   "metadata": {},
   "outputs": [
    {
     "data": {
      "text/plain": [
       "1271.1345998529712"
      ]
     },
     "execution_count": 19,
     "metadata": {},
     "output_type": "execute_result"
    }
   ],
   "source": [
    "#Training Vanilla XGBOOST Model\n",
    "params = {'tree_method': 'gpu_hist', 'n_jobs': -1, 'random_state': random_state, 'seed': random_state}\n",
    "d_train = xgboost.DMatrix(X_train, label=y_train['log_200'])\n",
    "d_test = xgboost.DMatrix(X_test)\n",
    "xgb_1 = xgboost.train(params, d_train, verbose_eval=False, obj=obj, feval=xg_eval_mae)\n",
    "xgb_1_pred = xgb_1.predict(d_test)\n",
    "xgb_1_pred = [decode_log_200(x) for x in xgb_1_pred]\n",
    "mae(xgb_1_pred, y_test['loss'])"
   ]
  },
  {
   "cell_type": "code",
   "execution_count": 35,
   "id": "7fb46f5a",
   "metadata": {},
   "outputs": [
    {
     "data": {
      "text/plain": [
       "1122.819744416839"
      ]
     },
     "execution_count": 35,
     "metadata": {},
     "output_type": "execute_result"
    }
   ],
   "source": [
    "#Best XGB Model - 1 , all the hyperparameters where found using Optuna and particular set of parameters where only tuned which affect out model the most\n",
    "#All of the parameter are choosen after going xgboost documentation and various kaggle dicussion forum\n",
    "params = {'max_depth': 11, \n",
    "          'min_child_weight': 150, \n",
    "          'subsample': 0.9, \n",
    "          'colsample_bytree': 0.9, \n",
    "          'colsample_bylevel': 0.55, \n",
    "          'learning_rate': 0.005, \n",
    "          'base_score': 0.9, \n",
    "          'tree_method':'gpu_hist',\n",
    "          'n_jobs':-1,\n",
    "          'seed':0,\n",
    "          'random_state':random_state}\n",
    "d_train = xgboost.DMatrix(X_train, label=y_train['log_200'])\n",
    "d_test = xgboost.DMatrix(X_test)\n",
    "num_boost_round = 5500\n",
    "xgb_1 = xgboost.train(params,d_train, verbose_eval=False, obj=obj, feval=xg_eval_mae,num_boost_round=num_boost_round)\n",
    "xgb_1_pred = xgb_1.predict(d_test)\n",
    "xgb_1_pred = [decode_log_200(x) for x in xgb_1_pred]\n",
    "mae(xgb_1_pred, y_test['loss'])"
   ]
  },
  {
   "cell_type": "code",
   "execution_count": 36,
   "id": "aea62fc8",
   "metadata": {},
   "outputs": [
    {
     "data": {
      "text/plain": [
       "1122.4362505299089"
      ]
     },
     "execution_count": 36,
     "metadata": {},
     "output_type": "execute_result"
    }
   ],
   "source": [
    "#Best XGB Model - 2\n",
    "params = {'max_depth': 11, \n",
    "          'min_child_weight': 150, \n",
    "          'subsample': 0.9, \n",
    "          'colsample_bytree': 0.9, \n",
    "          'colsample_bylevel': 0.55, \n",
    "          'learning_rate': 0.005, \n",
    "          'base_score': 0.9, \n",
    "          'tree_method':'gpu_hist',\n",
    "          'n_jobs':-1,\n",
    "          'seed':0,\n",
    "          'random_state':random_state}\n",
    "d_train = xgboost.DMatrix(X_train, label=y_train['log_200'])\n",
    "d_test = xgboost.DMatrix(X_test)\n",
    "num_boost_round = 6000\n",
    "xgb_2 = xgboost.train(params,d_train, verbose_eval=False, obj=obj, feval=xg_eval_mae,num_boost_round=num_boost_round)\n",
    "xgb_2_pred = xgb_2.predict(d_test)\n",
    "xgb_2_pred = [decode_log_200(x) for x in xgb_2_pred]\n",
    "mae(xgb_2_pred, y_test['loss'])"
   ]
  },
  {
   "cell_type": "code",
   "execution_count": 37,
   "id": "bedd3ba3",
   "metadata": {},
   "outputs": [
    {
     "data": {
      "text/plain": [
       "1122.5366736876974"
      ]
     },
     "execution_count": 37,
     "metadata": {},
     "output_type": "execute_result"
    }
   ],
   "source": [
    "#Best XGB Model - 3\n",
    "params = {'max_depth': 11, \n",
    "          'min_child_weight': 100, \n",
    "          'subsample': 0.9, \n",
    "          'colsample_bytree': 0.9, \n",
    "          'colsample_bylevel': 0.55, \n",
    "          'learning_rate': 0.005, \n",
    "          'base_score': 0.9, \n",
    "          'tree_method':'gpu_hist',\n",
    "          'n_jobs':-1,\n",
    "          'seed':0,\n",
    "          'random_state':random_state}\n",
    "d_train = xgboost.DMatrix(X_train, label=y_train['log_200'])\n",
    "d_test = xgboost.DMatrix(X_test)\n",
    "num_boost_round = 5500\n",
    "xgb_3 = xgboost.train(params,d_train, verbose_eval=False, obj=obj, feval=xg_eval_mae,num_boost_round=num_boost_round)\n",
    "xgb_3_pred = xgb_3.predict(d_test)\n",
    "xgb_3_pred = [decode_log_200(x) for x in xgb_3_pred]\n",
    "mae(xgb_3_pred, y_test['loss'])"
   ]
  },
  {
   "cell_type": "code",
   "execution_count": 38,
   "id": "7cbc2665",
   "metadata": {},
   "outputs": [
    {
     "data": {
      "text/plain": [
       "1129.4071683926484"
      ]
     },
     "execution_count": 38,
     "metadata": {},
     "output_type": "execute_result"
    }
   ],
   "source": [
    "#Best LightGBM Model\n",
    "#This is also tuned using Optuna\n",
    "params = {'subsample': 0.7732241782273651, \n",
    "          'colsample_bytree': 0.8208793491586571, \n",
    "          'min_child_samples': 119, \n",
    "          'n_estimators': 1664, \n",
    "          'learning_rate': 0.08833099322191373,\n",
    "          'objective':'regression_l1',\n",
    "          'random_state':random_state}\n",
    "lgm_1 = lightgbm.LGBMRegressor(**params)\n",
    "lgm_1.fit(X_train,y_train['log_loss_transform'])\n",
    "lgm_1_pred = lgm_1.predict(X_test)\n",
    "lgm_1_pred = [decode_log_loss_transform(x) for x in lgm_1_pred]\n",
    "mae(lgm_1_pred, y_test['loss'])"
   ]
  },
  {
   "cell_type": "code",
   "execution_count": 22,
   "id": "17c35c7e",
   "metadata": {},
   "outputs": [],
   "source": [
    "xgb1_params = {'n_estimators': 5500,\n",
    "          'max_depth': 11, \n",
    "          'min_child_weight': 100, \n",
    "          'subsample': 0.9, \n",
    "          'colsample_bytree': 0.9, \n",
    "          'colsample_bylevel': 0.55, \n",
    "          'learning_rate': 0.005, \n",
    "          'base_score': 0.9, \n",
    "          'tree_method':'gpu_hist',\n",
    "          'n_jobs':-1,\n",
    "          'seed':0,\n",
    "          'random_state':random_state,\n",
    "          'eval_metric': obj}\n",
    "\n",
    "xgb2_params = {'n_estimators': 6000,\n",
    "          'max_depth': 11, \n",
    "          'min_child_weight': 150, \n",
    "          'subsample': 0.9, \n",
    "          'colsample_bytree': 0.9, \n",
    "          'colsample_bylevel': 0.55, \n",
    "          'learning_rate': 0.005, \n",
    "          'base_score': 0.9, \n",
    "          'tree_method':'gpu_hist',\n",
    "          'n_jobs':-1,\n",
    "          'seed':0,\n",
    "          'random_state':random_state,\n",
    "          'eval_metric': obj}\n",
    "\n",
    "xgb3_params = {'n_estimators': 5500,\n",
    "          'max_depth': 11, \n",
    "          'min_child_weight': 100, \n",
    "          'subsample': 0.9, \n",
    "          'colsample_bytree': 0.9, \n",
    "          'colsample_bylevel': 0.55, \n",
    "          'learning_rate': 0.005, \n",
    "          'base_score': 0.9, \n",
    "          'tree_method':'gpu_hist',\n",
    "          'n_jobs':-1,\n",
    "          'seed':0,\n",
    "          'random_state':random_state,\n",
    "          'eval_metric': obj}\n",
    "\n",
    "lgbm_params = {'subsample': 0.7732241782273651, \n",
    "          'colsample_bytree': 0.8208793491586571, \n",
    "          'min_child_samples': 119, \n",
    "          'n_estimators': 1664, \n",
    "          'learning_rate': 0.08833099322191373,\n",
    "          'objective':'regression_l1',\n",
    "          'random_state':random_state}"
   ]
  },
  {
   "cell_type": "code",
   "execution_count": null,
   "id": "7bec76e4",
   "metadata": {},
   "outputs": [],
   "source": [
    "estimator = StackingRegressor([('xgb1',xgboost.XGBRegressor(**xgb1_params)),\n",
    "                               ('xgb2',xgboost.XGBRegressor(**xgb2_params)),\n",
    "                               ('xgb3',xgboost.XGBRegressor(**xgb3_params)),\n",
    "                               ('lgbm',lightgbm.LGBMRegressor(**lgbm_params))]\n",
    "                               , final_estimator = catboost.CatBoostRegressor(),\n",
    "                               passthrough=True)\n",
    "estimator.fit(data_,target['log_200'])"
   ]
  },
  {
   "cell_type": "code",
   "execution_count": 56,
   "id": "228b5119",
   "metadata": {},
   "outputs": [],
   "source": [
    "#save estimator pickle file \n",
    "with open('..\\\\models\\\\estimator.pkl', 'wb') as f:\n",
    "    pickle.dump(estimator, f)"
   ]
  },
  {
   "cell_type": "code",
   "execution_count": 23,
   "id": "2759d31c",
   "metadata": {},
   "outputs": [],
   "source": [
    "#load estimator pickle file \n",
    "with open('..\\\\models\\\\estimator.pkl', 'rb') as f:\n",
    "    estimator = pickle.load(f)"
   ]
  },
  {
   "cell_type": "code",
   "execution_count": 20,
   "id": "78597787",
   "metadata": {},
   "outputs": [
    {
     "data": {
      "text/plain": [
       "970.0388791900697"
      ]
     },
     "execution_count": 20,
     "metadata": {},
     "output_type": "execute_result"
    }
   ],
   "source": [
    "pred = estimator.predict(data_)\n",
    "pred = [decode_log_200(x) for x in pred]\n",
    "mae(target['loss'],pred)"
   ]
  },
  {
   "cell_type": "markdown",
   "id": "229b05a2",
   "metadata": {},
   "source": [
    "# Test Data Submission"
   ]
  },
  {
   "cell_type": "code",
   "execution_count": 21,
   "id": "bbb1c0cb",
   "metadata": {},
   "outputs": [
    {
     "data": {
      "text/plain": [
       "(125546, 121)"
      ]
     },
     "execution_count": 21,
     "metadata": {},
     "output_type": "execute_result"
    }
   ],
   "source": [
    "#Loading the test data\n",
    "test_df = pd.read_csv(\"..\\\\dataset\\\\test.csv\")\n",
    "t_id = test_df['id']\n",
    "test_df = test_df.drop(['id'], axis=1)\n",
    "test_df = test_df.drop(drop_col, axis=1)\n",
    "test_df.shape"
   ]
  },
  {
   "cell_type": "code",
   "execution_count": 22,
   "id": "cb6d44b3",
   "metadata": {},
   "outputs": [
    {
     "name": "stderr",
     "output_type": "stream",
     "text": [
      "100%|██████████| 107/107 [00:12<00:00,  8.59it/s]\n"
     ]
    }
   ],
   "source": [
    "#Preprocessing all the numerical and categorical data\n",
    "for i in cont_name:\n",
    "    test_df[i], fitted_lambda = stats.boxcox(test_df[i] + 1)\n",
    "    \n",
    "for i in tqdm(cat_name):\n",
    "    test_df[i] = test_df[i].apply(lexical_encoding)"
   ]
  },
  {
   "cell_type": "code",
   "execution_count": 23,
   "id": "07020aec",
   "metadata": {},
   "outputs": [
    {
     "name": "stderr",
     "output_type": "stream",
     "text": [
      "100%|██████████| 40/40 [00:03<00:00, 10.48it/s]\n"
     ]
    }
   ],
   "source": [
    "#Applying Two way feature interaction to test data\n",
    "for i in tqdm(two_way):\n",
    "    features = i.split('|')\n",
    "    concat_name = i.replace('|','_')\n",
    "    mul_name = i.replace('|','*')\n",
    "    test_df[concat_name] = test_df[features[0]].astype(str) + test_df[features[1]].astype(str)\n",
    "    test_df[concat_name] = test_df[concat_name].astype(int)\n",
    "    test_df[mul_name] = test_df[features[0]].astype(float) + test_df[features[1]].astype(float)"
   ]
  },
  {
   "cell_type": "code",
   "execution_count": 24,
   "id": "c6214467",
   "metadata": {},
   "outputs": [],
   "source": [
    "test_pred = estimator.predict(test_df)\n",
    "test_pred = [decode_log_200(x) for x in test_pred]"
   ]
  },
  {
   "cell_type": "code",
   "execution_count": 26,
   "id": "d7c955eb",
   "metadata": {},
   "outputs": [
    {
     "data": {
      "text/html": [
       "<div>\n",
       "<style scoped>\n",
       "    .dataframe tbody tr th:only-of-type {\n",
       "        vertical-align: middle;\n",
       "    }\n",
       "\n",
       "    .dataframe tbody tr th {\n",
       "        vertical-align: top;\n",
       "    }\n",
       "\n",
       "    .dataframe thead th {\n",
       "        text-align: right;\n",
       "    }\n",
       "</style>\n",
       "<table border=\"1\" class=\"dataframe\">\n",
       "  <thead>\n",
       "    <tr style=\"text-align: right;\">\n",
       "      <th></th>\n",
       "      <th>id</th>\n",
       "      <th>loss</th>\n",
       "    </tr>\n",
       "  </thead>\n",
       "  <tbody>\n",
       "    <tr>\n",
       "      <th>0</th>\n",
       "      <td>4</td>\n",
       "      <td>1508.816892</td>\n",
       "    </tr>\n",
       "    <tr>\n",
       "      <th>1</th>\n",
       "      <td>6</td>\n",
       "      <td>1975.302469</td>\n",
       "    </tr>\n",
       "    <tr>\n",
       "      <th>2</th>\n",
       "      <td>9</td>\n",
       "      <td>9675.214550</td>\n",
       "    </tr>\n",
       "    <tr>\n",
       "      <th>3</th>\n",
       "      <td>12</td>\n",
       "      <td>6235.617812</td>\n",
       "    </tr>\n",
       "    <tr>\n",
       "      <th>4</th>\n",
       "      <td>15</td>\n",
       "      <td>737.666754</td>\n",
       "    </tr>\n",
       "  </tbody>\n",
       "</table>\n",
       "</div>"
      ],
      "text/plain": [
       "   id         loss\n",
       "0   4  1508.816892\n",
       "1   6  1975.302469\n",
       "2   9  9675.214550\n",
       "3  12  6235.617812\n",
       "4  15   737.666754"
      ]
     },
     "execution_count": 26,
     "metadata": {},
     "output_type": "execute_result"
    }
   ],
   "source": [
    "#Creating the submission file\n",
    "sub = pd.DataFrame()\n",
    "sub['id'] = t_id\n",
    "sub['loss'] = test_pred\n",
    "sub.head()"
   ]
  },
  {
   "cell_type": "code",
   "execution_count": 27,
   "id": "682f9189",
   "metadata": {},
   "outputs": [
    {
     "data": {
      "text/plain": [
       "(125546, 2)"
      ]
     },
     "execution_count": 27,
     "metadata": {},
     "output_type": "execute_result"
    }
   ],
   "source": [
    "sub.shape"
   ]
  },
  {
   "cell_type": "code",
   "execution_count": 28,
   "id": "7ac0946a",
   "metadata": {},
   "outputs": [],
   "source": [
    "sub.to_csv('..\\\\submission\\\\submission.csv', index=False)"
   ]
  },
  {
   "cell_type": "markdown",
   "id": "acfeb71c",
   "metadata": {},
   "source": [
    "<img src=\"https://i.imgur.com/f7aQOS9.png\">"
   ]
  }
 ],
 "metadata": {
  "kernelspec": {
   "display_name": "Python 3 (ipykernel)",
   "language": "python",
   "name": "python3"
  },
  "language_info": {
   "codemirror_mode": {
    "name": "ipython",
    "version": 3
   },
   "file_extension": ".py",
   "mimetype": "text/x-python",
   "name": "python",
   "nbconvert_exporter": "python",
   "pygments_lexer": "ipython3",
   "version": "3.10.4"
  }
 },
 "nbformat": 4,
 "nbformat_minor": 5
}
