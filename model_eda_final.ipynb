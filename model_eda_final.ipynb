{
 "cells": [
  {
   "cell_type": "code",
   "execution_count": 6,
   "id": "1bfacb0a-3bde-4308-aaf3-b60779c06b10",
   "metadata": {
    "execution": {
     "iopub.execute_input": "2022-03-11T20:13:10.708802Z",
     "iopub.status.busy": "2022-03-11T20:13:10.708362Z",
     "iopub.status.idle": "2022-03-11T20:13:12.564785Z",
     "shell.execute_reply": "2022-03-11T20:13:12.564198Z",
     "shell.execute_reply.started": "2022-03-11T20:13:10.708745Z"
    }
   },
   "outputs": [],
   "source": [
    "#Importing all the necessary libraries\n",
    "import pandas as pd    \n",
    "import numpy as np \n",
    "import sklearn\n",
    "from sklearn import preprocessing\n",
    "from sklearn import decomposition\n",
    "import sklearn.metrics\n",
    "from sklearn.model_selection import train_test_split\n",
    "from sklearn.metrics import mean_absolute_error as mae\n",
    "from sklearn.preprocessing import StandardScaler\n",
    "from sklearn.model_selection import StratifiedKFold\n",
    "from sklearn.preprocessing import StandardScaler\n",
    "from sklearn import preprocessing\n",
    "from sklearn.model_selection import RandomizedSearchCV\n",
    "from sklearn.model_selection import KFold\n",
    "import catboost\n",
    "import matplotlib.pyplot as plt\n",
    "from operator import itemgetter\n",
    "import scipy\n",
    "import string\n",
    "import xgboost\n",
    "from tqdm import tqdm\n",
    "import xgbfir\n",
    "from scipy import stats\n",
    "from sklearn.ensemble import StackingRegressor\n",
    "import optuna\n",
    "import math\n",
    "import itertools\n",
    "import pickle\n",
    "import warnings \n",
    "import seaborn as sns\n",
    "import lightgbm\n",
    "from sklearn.tree import DecisionTreeRegressor\n",
    "from sklearn.ensemble import RandomForestRegressor\n",
    "from sklearn.linear_model import Ridge\n",
    "from sklearn.ensemble import StackingRegressor\n",
    "from sklearn.linear_model import LinearRegression\n",
    "from sklearn.svm import SVR\n",
    "from sklearn.pipeline import make_pipeline\n",
    "from sklearn.preprocessing import StandardScaler\n",
    "from prettytable import PrettyTable\n",
    "from joblib import dump, load\n",
    "\n",
    "global random_state\n",
    "random_state = 42\n",
    "warnings.filterwarnings('ignore')"
   ]
  },
  {
   "cell_type": "code",
   "execution_count": 18,
   "id": "362a3134",
   "metadata": {},
   "outputs": [],
   "source": [
    "X_train, X_test, y_train, y_test = pickle.load(open('train_test_split.pkl', 'rb'))"
   ]
  },
  {
   "cell_type": "code",
   "execution_count": 21,
   "id": "2bb14426",
   "metadata": {},
   "outputs": [],
   "source": [
    "estimator = load('estimator.joblib')"
   ]
  },
  {
   "cell_type": "code",
   "execution_count": 22,
   "id": "b75d5a18",
   "metadata": {},
   "outputs": [
    {
     "data": {
      "text/plain": [
       "1122.9672055718056"
      ]
     },
     "execution_count": 22,
     "metadata": {},
     "output_type": "execute_result"
    }
   ],
   "source": [
    "pred = estimator.predict(X_test)\n",
    "pred = [decode_log_200(x) for x in pred]\n",
    "y_test['pred'] = pred\n",
    "mae(y_test['loss'],pred)"
   ]
  },
  {
   "cell_type": "code",
   "execution_count": 23,
   "id": "f34e902d",
   "metadata": {},
   "outputs": [
    {
     "data": {
      "text/html": [
       "<div>\n",
       "<style scoped>\n",
       "    .dataframe tbody tr th:only-of-type {\n",
       "        vertical-align: middle;\n",
       "    }\n",
       "\n",
       "    .dataframe tbody tr th {\n",
       "        vertical-align: top;\n",
       "    }\n",
       "\n",
       "    .dataframe thead th {\n",
       "        text-align: right;\n",
       "    }\n",
       "</style>\n",
       "<table border=\"1\" class=\"dataframe\">\n",
       "  <thead>\n",
       "    <tr style=\"text-align: right;\">\n",
       "      <th></th>\n",
       "      <th>loss</th>\n",
       "      <th>normalized_log_loss</th>\n",
       "      <th>log_200</th>\n",
       "      <th>loss_tranform</th>\n",
       "      <th>log_loss_transform</th>\n",
       "      <th>log_100</th>\n",
       "      <th>loss_d10</th>\n",
       "      <th>log_d10</th>\n",
       "      <th>loss_tranform_50</th>\n",
       "      <th>log_loss_transform_50</th>\n",
       "      <th>binned</th>\n",
       "      <th>pred</th>\n",
       "    </tr>\n",
       "  </thead>\n",
       "  <tbody>\n",
       "    <tr>\n",
       "      <th>9209</th>\n",
       "      <td>4235.59</td>\n",
       "      <td>0.700456</td>\n",
       "      <td>8.397416</td>\n",
       "      <td>8.067305</td>\n",
       "      <td>8.067781</td>\n",
       "      <td>8.374613</td>\n",
       "      <td>0.002361</td>\n",
       "      <td>-6.048693</td>\n",
       "      <td>65.081411</td>\n",
       "      <td>4.175757</td>\n",
       "      <td>79.0</td>\n",
       "      <td>2696.583071</td>\n",
       "    </tr>\n",
       "    <tr>\n",
       "      <th>107459</th>\n",
       "      <td>2776.62</td>\n",
       "      <td>0.662732</td>\n",
       "      <td>7.998544</td>\n",
       "      <td>7.259039</td>\n",
       "      <td>7.259692</td>\n",
       "      <td>7.964371</td>\n",
       "      <td>0.003602</td>\n",
       "      <td>-5.626405</td>\n",
       "      <td>52.693643</td>\n",
       "      <td>3.964675</td>\n",
       "      <td>63.0</td>\n",
       "      <td>2154.155580</td>\n",
       "    </tr>\n",
       "    <tr>\n",
       "      <th>154859</th>\n",
       "      <td>887.13</td>\n",
       "      <td>0.560843</td>\n",
       "      <td>6.991296</td>\n",
       "      <td>5.457539</td>\n",
       "      <td>5.459076</td>\n",
       "      <td>6.894802</td>\n",
       "      <td>0.011272</td>\n",
       "      <td>-4.485406</td>\n",
       "      <td>29.784728</td>\n",
       "      <td>3.394559</td>\n",
       "      <td>14.0</td>\n",
       "      <td>1232.208532</td>\n",
       "    </tr>\n",
       "    <tr>\n",
       "      <th>119693</th>\n",
       "      <td>4509.23</td>\n",
       "      <td>0.706049</td>\n",
       "      <td>8.457280</td>\n",
       "      <td>8.194559</td>\n",
       "      <td>8.195013</td>\n",
       "      <td>8.435816</td>\n",
       "      <td>0.002218</td>\n",
       "      <td>-6.111297</td>\n",
       "      <td>67.150800</td>\n",
       "      <td>4.207052</td>\n",
       "      <td>81.0</td>\n",
       "      <td>5153.293064</td>\n",
       "    </tr>\n",
       "    <tr>\n",
       "      <th>77397</th>\n",
       "      <td>4880.69</td>\n",
       "      <td>0.713122</td>\n",
       "      <td>8.533202</td>\n",
       "      <td>8.358345</td>\n",
       "      <td>8.358773</td>\n",
       "      <td>8.513324</td>\n",
       "      <td>0.002049</td>\n",
       "      <td>-6.190457</td>\n",
       "      <td>69.861935</td>\n",
       "      <td>4.246623</td>\n",
       "      <td>83.0</td>\n",
       "      <td>1758.444855</td>\n",
       "    </tr>\n",
       "  </tbody>\n",
       "</table>\n",
       "</div>"
      ],
      "text/plain": [
       "           loss  normalized_log_loss   log_200  loss_tranform  \\\n",
       "9209    4235.59             0.700456  8.397416       8.067305   \n",
       "107459  2776.62             0.662732  7.998544       7.259039   \n",
       "154859   887.13             0.560843  6.991296       5.457539   \n",
       "119693  4509.23             0.706049  8.457280       8.194559   \n",
       "77397   4880.69             0.713122  8.533202       8.358345   \n",
       "\n",
       "        log_loss_transform   log_100  loss_d10   log_d10  loss_tranform_50  \\\n",
       "9209              8.067781  8.374613  0.002361 -6.048693         65.081411   \n",
       "107459            7.259692  7.964371  0.003602 -5.626405         52.693643   \n",
       "154859            5.459076  6.894802  0.011272 -4.485406         29.784728   \n",
       "119693            8.195013  8.435816  0.002218 -6.111297         67.150800   \n",
       "77397             8.358773  8.513324  0.002049 -6.190457         69.861935   \n",
       "\n",
       "        log_loss_transform_50  binned         pred  \n",
       "9209                 4.175757    79.0  2696.583071  \n",
       "107459               3.964675    63.0  2154.155580  \n",
       "154859               3.394559    14.0  1232.208532  \n",
       "119693               4.207052    81.0  5153.293064  \n",
       "77397                4.246623    83.0  1758.444855  "
      ]
     },
     "execution_count": 23,
     "metadata": {},
     "output_type": "execute_result"
    }
   ],
   "source": [
    "y_test.head()"
   ]
  },
  {
   "cell_type": "code",
   "execution_count": 24,
   "id": "ec4d57d6",
   "metadata": {},
   "outputs": [
    {
     "data": {
      "text/html": [
       "<div>\n",
       "<style scoped>\n",
       "    .dataframe tbody tr th:only-of-type {\n",
       "        vertical-align: middle;\n",
       "    }\n",
       "\n",
       "    .dataframe tbody tr th {\n",
       "        vertical-align: top;\n",
       "    }\n",
       "\n",
       "    .dataframe thead th {\n",
       "        text-align: right;\n",
       "    }\n",
       "</style>\n",
       "<table border=\"1\" class=\"dataframe\">\n",
       "  <thead>\n",
       "    <tr style=\"text-align: right;\">\n",
       "      <th></th>\n",
       "      <th>loss</th>\n",
       "      <th>normalized_log_loss</th>\n",
       "      <th>log_200</th>\n",
       "      <th>loss_tranform</th>\n",
       "      <th>log_loss_transform</th>\n",
       "      <th>log_100</th>\n",
       "      <th>loss_d10</th>\n",
       "      <th>log_d10</th>\n",
       "      <th>loss_tranform_50</th>\n",
       "      <th>log_loss_transform_50</th>\n",
       "      <th>binned</th>\n",
       "      <th>pred</th>\n",
       "      <th>diff</th>\n",
       "      <th>type</th>\n",
       "    </tr>\n",
       "  </thead>\n",
       "  <tbody>\n",
       "    <tr>\n",
       "      <th>9209</th>\n",
       "      <td>4235.59</td>\n",
       "      <td>0.700456</td>\n",
       "      <td>8.397416</td>\n",
       "      <td>8.067305</td>\n",
       "      <td>8.067781</td>\n",
       "      <td>8.374613</td>\n",
       "      <td>0.002361</td>\n",
       "      <td>-6.048693</td>\n",
       "      <td>65.081411</td>\n",
       "      <td>4.175757</td>\n",
       "      <td>79.0</td>\n",
       "      <td>2696.583071</td>\n",
       "      <td>-1539.006929</td>\n",
       "      <td>1</td>\n",
       "    </tr>\n",
       "    <tr>\n",
       "      <th>107459</th>\n",
       "      <td>2776.62</td>\n",
       "      <td>0.662732</td>\n",
       "      <td>7.998544</td>\n",
       "      <td>7.259039</td>\n",
       "      <td>7.259692</td>\n",
       "      <td>7.964371</td>\n",
       "      <td>0.003602</td>\n",
       "      <td>-5.626405</td>\n",
       "      <td>52.693643</td>\n",
       "      <td>3.964675</td>\n",
       "      <td>63.0</td>\n",
       "      <td>2154.155580</td>\n",
       "      <td>-622.464420</td>\n",
       "      <td>0</td>\n",
       "    </tr>\n",
       "    <tr>\n",
       "      <th>154859</th>\n",
       "      <td>887.13</td>\n",
       "      <td>0.560843</td>\n",
       "      <td>6.991296</td>\n",
       "      <td>5.457539</td>\n",
       "      <td>5.459076</td>\n",
       "      <td>6.894802</td>\n",
       "      <td>0.011272</td>\n",
       "      <td>-4.485406</td>\n",
       "      <td>29.784728</td>\n",
       "      <td>3.394559</td>\n",
       "      <td>14.0</td>\n",
       "      <td>1232.208532</td>\n",
       "      <td>345.078532</td>\n",
       "      <td>0</td>\n",
       "    </tr>\n",
       "    <tr>\n",
       "      <th>119693</th>\n",
       "      <td>4509.23</td>\n",
       "      <td>0.706049</td>\n",
       "      <td>8.457280</td>\n",
       "      <td>8.194559</td>\n",
       "      <td>8.195013</td>\n",
       "      <td>8.435816</td>\n",
       "      <td>0.002218</td>\n",
       "      <td>-6.111297</td>\n",
       "      <td>67.150800</td>\n",
       "      <td>4.207052</td>\n",
       "      <td>81.0</td>\n",
       "      <td>5153.293064</td>\n",
       "      <td>644.063064</td>\n",
       "      <td>0</td>\n",
       "    </tr>\n",
       "    <tr>\n",
       "      <th>77397</th>\n",
       "      <td>4880.69</td>\n",
       "      <td>0.713122</td>\n",
       "      <td>8.533202</td>\n",
       "      <td>8.358345</td>\n",
       "      <td>8.358773</td>\n",
       "      <td>8.513324</td>\n",
       "      <td>0.002049</td>\n",
       "      <td>-6.190457</td>\n",
       "      <td>69.861935</td>\n",
       "      <td>4.246623</td>\n",
       "      <td>83.0</td>\n",
       "      <td>1758.444855</td>\n",
       "      <td>-3122.245145</td>\n",
       "      <td>1</td>\n",
       "    </tr>\n",
       "  </tbody>\n",
       "</table>\n",
       "</div>"
      ],
      "text/plain": [
       "           loss  normalized_log_loss   log_200  loss_tranform  \\\n",
       "9209    4235.59             0.700456  8.397416       8.067305   \n",
       "107459  2776.62             0.662732  7.998544       7.259039   \n",
       "154859   887.13             0.560843  6.991296       5.457539   \n",
       "119693  4509.23             0.706049  8.457280       8.194559   \n",
       "77397   4880.69             0.713122  8.533202       8.358345   \n",
       "\n",
       "        log_loss_transform   log_100  loss_d10   log_d10  loss_tranform_50  \\\n",
       "9209              8.067781  8.374613  0.002361 -6.048693         65.081411   \n",
       "107459            7.259692  7.964371  0.003602 -5.626405         52.693643   \n",
       "154859            5.459076  6.894802  0.011272 -4.485406         29.784728   \n",
       "119693            8.195013  8.435816  0.002218 -6.111297         67.150800   \n",
       "77397             8.358773  8.513324  0.002049 -6.190457         69.861935   \n",
       "\n",
       "        log_loss_transform_50  binned         pred         diff  type  \n",
       "9209                 4.175757    79.0  2696.583071 -1539.006929     1  \n",
       "107459               3.964675    63.0  2154.155580  -622.464420     0  \n",
       "154859               3.394559    14.0  1232.208532   345.078532     0  \n",
       "119693               4.207052    81.0  5153.293064   644.063064     0  \n",
       "77397                4.246623    83.0  1758.444855 -3122.245145     1  "
      ]
     },
     "execution_count": 24,
     "metadata": {},
     "output_type": "execute_result"
    }
   ],
   "source": [
    "#if difference between pred and loss is > 1100 then 1 else 0\n",
    "#Threshold is set to 1100 as our MAE of test data is around 1100\n",
    "y_test['diff'] = y_test['pred'] - y_test['loss']\n",
    "y_test['type'] = y_test['diff'].apply(lambda x: 1 if np.abs(x) > 1100 else 0)\n",
    "y_test.head()"
   ]
  },
  {
   "cell_type": "code",
   "execution_count": 25,
   "id": "5310fdbf",
   "metadata": {},
   "outputs": [
    {
     "data": {
      "text/plain": [
       "count     6066.000000\n",
       "mean     -1165.588727\n",
       "std       3025.336004\n",
       "min     -51116.249953\n",
       "25%      -2580.136576\n",
       "50%      -1489.185379\n",
       "75%       1341.568159\n",
       "max      12888.756598\n",
       "Name: diff, dtype: float64"
      ]
     },
     "execution_count": 25,
     "metadata": {},
     "output_type": "execute_result"
    }
   ],
   "source": [
    "#Summary Statistics on difference between pred and ground truth\n",
    "y_test[y_test['type'] == 1]['diff'].describe()"
   ]
  },
  {
   "cell_type": "code",
   "execution_count": 26,
   "id": "1404bf91",
   "metadata": {},
   "outputs": [
    {
     "data": {
      "text/plain": [
       "<AxesSubplot:>"
      ]
     },
     "execution_count": 26,
     "metadata": {},
     "output_type": "execute_result"
    },
    {
     "data": {
      "image/png": "[encoded data removed]",
      "text/plain": [
       "<Figure size 864x432 with 1 Axes>"
      ]
     },
     "metadata": {
      "needs_background": "light"
     },
     "output_type": "display_data"
    }
   ],
   "source": [
    "#plot histogram of loss where pred is 1 i.e incorrect points\n",
    "#increase pandas plot size to see the plot\n",
    "plt.rcParams['figure.figsize'] = (12, 6)\n",
    "y_test[y_test['type'] == 1]['diff'].hist(bins=100)"
   ]
  },
  {
   "cell_type": "code",
   "execution_count": 50,
   "id": "38260874",
   "metadata": {},
   "outputs": [
    {
     "data": {
      "text/plain": [
       "<AxesSubplot:xlabel='diff', ylabel='Density'>"
      ]
     },
     "execution_count": 50,
     "metadata": {},
     "output_type": "execute_result"
    },
    {
     "data": {
      "image/png": "[encoded data removed]",
      "text/plain": [
       "<Figure size 864x432 with 1 Axes>"
      ]
     },
     "metadata": {},
     "output_type": "display_data"
    }
   ],
   "source": [
    "#pdf of prediction difference where model output under predicted i.e predicted value is less then the ground truth\n",
    "neg_diff = y_test[(y_test['type'] == 1) & (y_test['diff'] < 0)]\n",
    "sns.distplot(neg_diff['diff'])"
   ]
  },
  {
   "cell_type": "code",
   "execution_count": 28,
   "id": "90b60c00",
   "metadata": {},
   "outputs": [
    {
     "data": {
      "text/plain": [
       "count     3963.000000\n",
       "mean     -2825.471559\n",
       "std       2345.196384\n",
       "min     -51116.249953\n",
       "25%      -3255.212952\n",
       "50%      -2137.762410\n",
       "75%      -1518.498242\n",
       "max      -1100.103052\n",
       "Name: diff, dtype: float64"
      ]
     },
     "execution_count": 28,
     "metadata": {},
     "output_type": "execute_result"
    }
   ],
   "source": [
    "#Summary Statistics\n",
    "neg_diff['diff'].describe()"
   ]
  },
  {
   "cell_type": "code",
   "execution_count": 29,
   "id": "bc4cf69b",
   "metadata": {},
   "outputs": [
    {
     "name": "stdout",
     "output_type": "stream",
     "text": [
      "0 : -51116.2499534411\n",
      "0.1 : -21245.067675462575\n",
      "0.2 : -17254.035693838865\n",
      "0.3 : -16649.2473111349\n",
      "0.4 : -15202.988365621768\n",
      "0.5 : -13605.940761360622\n",
      "0.6 : -13068.033559420619\n",
      "0.7 : -12763.475362579684\n",
      "0.8 : -12629.120221062745\n",
      "0.9 : -12257.2766654934\n",
      "1 : -11727.656807999343\n"
     ]
    }
   ],
   "source": [
    "#0-1 percentile on neg diff\n",
    "for i in [0,0.1,0.2,0.3,0.4,0.5,0.6,0.7,0.8,0.9,1]:\n",
    "    print(i, \":\", np.percentile(neg_diff['diff'], i))"
   ]
  },
  {
   "cell_type": "code",
   "execution_count": 30,
   "id": "41f71864",
   "metadata": {},
   "outputs": [],
   "source": [
    "#Over here we can see that there are some big outliers points where diff is negative between pred and loss"
   ]
  },
  {
   "cell_type": "code",
   "execution_count": 31,
   "id": "e9f225ac",
   "metadata": {},
   "outputs": [
    {
     "data": {
      "text/plain": [
       "<AxesSubplot:xlabel='diff', ylabel='Density'>"
      ]
     },
     "execution_count": 31,
     "metadata": {},
     "output_type": "execute_result"
    },
    {
     "data": {
      "image/png": "[encoded data removed]",
      "text/plain": [
       "<Figure size 864x432 with 1 Axes>"
      ]
     },
     "metadata": {
      "needs_background": "light"
     },
     "output_type": "display_data"
    }
   ],
   "source": [
    "#pdf of prediction difference where model output is over predicted i.e predicted value is more then the ground truth\n",
    "pos_diff = y_test[(y_test['type'] == 1) & (y_test['diff'] > 0)]\n",
    "#plot sns distrib of pos diff\n",
    "sns.distplot(pos_diff['diff'])"
   ]
  },
  {
   "cell_type": "code",
   "execution_count": 32,
   "id": "462b5e3f",
   "metadata": {},
   "outputs": [
    {
     "data": {
      "text/plain": [
       "count     2103.000000\n",
       "mean      1962.378778\n",
       "std       1028.853654\n",
       "min       1100.013487\n",
       "25%       1317.158105\n",
       "50%       1619.897233\n",
       "75%       2192.800662\n",
       "max      12888.756598\n",
       "Name: diff, dtype: float64"
      ]
     },
     "execution_count": 32,
     "metadata": {},
     "output_type": "execute_result"
    }
   ],
   "source": [
    "#Summary Statistics\n",
    "pos_diff['diff'].describe()"
   ]
  },
  {
   "cell_type": "code",
   "execution_count": 33,
   "id": "9ecd038f",
   "metadata": {},
   "outputs": [
    {
     "name": "stdout",
     "output_type": "stream",
     "text": [
      "0 : 1100.0134865847172\n",
      "10 : 1181.6368499051528\n",
      "20 : 1262.271794193867\n",
      "30 : 1362.6190359108239\n",
      "40 : 1487.557147973602\n",
      "50 : 1619.8972332161538\n",
      "60 : 1819.8647229171593\n",
      "70 : 2053.5736339047376\n",
      "80 : 2413.3092179668406\n",
      "90 : 3138.100493642901\n",
      "100 : 12888.756598008824\n"
     ]
    }
   ],
   "source": [
    "#Positive difference percentile\n",
    "for i in range(0,110,10):\n",
    "    print(i, \":\", np.percentile(pos_diff['diff'], i))"
   ]
  },
  {
   "cell_type": "code",
   "execution_count": 34,
   "id": "1a7bff33",
   "metadata": {},
   "outputs": [
    {
     "name": "stdout",
     "output_type": "stream",
     "text": [
      "90 : 3138.100493642901\n",
      "91 : 3251.5985647630587\n",
      "92 : 3389.67339613982\n",
      "93 : 3538.8173076504672\n",
      "94 : 3766.4109659934647\n",
      "95 : 4028.699915749796\n",
      "96 : 4254.619318088115\n",
      "97 : 4713.161647168706\n",
      "98 : 5291.863964701502\n",
      "99 : 5843.535937389475\n",
      "100 : 12888.756598008824\n"
     ]
    }
   ],
   "source": [
    "\n",
    "for i in range(90,101):\n",
    "    print(i, \":\", np.percentile(pos_diff['diff'], i))"
   ]
  },
  {
   "cell_type": "code",
   "execution_count": 35,
   "id": "0ae3d084",
   "metadata": {},
   "outputs": [
    {
     "name": "stdout",
     "output_type": "stream",
     "text": [
      "99.1 : 5883.509921406547\n",
      "99.2 : 6010.6845348582065\n",
      "99.3 : 6364.49911259332\n",
      "99.4 : 6576.216252182637\n",
      "99.5 : 6866.350472135718\n",
      "99.6 : 7098.742347456011\n",
      "99.7 : 7482.306530825544\n",
      "99.8 : 8130.971428640659\n",
      "99.9 : 9227.58760358442\n",
      "100 : 12888.756598008824\n"
     ]
    }
   ],
   "source": [
    "for i in [99.1,99.2,99.3,99.4,99.5,99.6,99.7,99.8,99.9,100]:\n",
    "    print(i, \":\", np.percentile(pos_diff['diff'], i))"
   ]
  },
  {
   "cell_type": "code",
   "execution_count": null,
   "id": "73248723",
   "metadata": {},
   "outputs": [],
   "source": [
    "#Over here in the positive difference we can see that 99% of the point have diff of less then 5800, only 1% of the point have diff of more then 5800\n",
    "#So we can considered these 1% point as outliers"
   ]
  },
  {
   "cell_type": "code",
   "execution_count": 53,
   "id": "916a3476",
   "metadata": {},
   "outputs": [
    {
     "data": {
      "text/plain": [
       "(4475, 14)"
      ]
     },
     "execution_count": 53,
     "metadata": {},
     "output_type": "execute_result"
    }
   ],
   "source": [
    "#Choosing only those points where ground truth is more than 4000\n",
    "thres = 4000\n",
    "high_correct = y_test[(y_test['loss'] > thres) & (y_test['type'] == 0)]\n",
    "high_incorrect = y_test[(y_test['loss'] > thres) & (y_test['type'] == 1)]\n",
    "df = pd.concat([high_correct, high_incorrect])\n",
    "df.shape"
   ]
  },
  {
   "cell_type": "code",
   "execution_count": 52,
   "id": "4f29c44e",
   "metadata": {},
   "outputs": [
    {
     "data": {
      "text/plain": [
       "<AxesSubplot:xlabel='loss', ylabel='Density'>"
      ]
     },
     "execution_count": 52,
     "metadata": {},
     "output_type": "execute_result"
    },
    {
     "data": {
      "image/png": "[encoded data removed]",
      "text/plain": [
       "<Figure size 864x432 with 1 Axes>"
      ]
     },
     "metadata": {},
     "output_type": "display_data"
    }
   ],
   "source": [
    "#plot pdf on loss column \n",
    "sns.distplot(df['loss'])"
   ]
  },
  {
   "cell_type": "code",
   "execution_count": 55,
   "id": "f1012a6d",
   "metadata": {},
   "outputs": [
    {
     "data": {
      "text/plain": [
       "(4475, 204)"
      ]
     },
     "execution_count": 55,
     "metadata": {},
     "output_type": "execute_result"
    }
   ],
   "source": [
    "#Getting test data where ground truth is more than 4000\n",
    "temp_test = X_test.copy()\n",
    "temp_test = temp_test.loc[df.index]\n",
    "temp_test['pred'] = df['pred']\n",
    "temp_test['loss'] = df['loss']\n",
    "temp_test['diff'] = df['diff']\n",
    "temp_test.shape"
   ]
  },
  {
   "cell_type": "code",
   "execution_count": 57,
   "id": "ff425db2",
   "metadata": {},
   "outputs": [
    {
     "name": "stdout",
     "output_type": "stream",
     "text": [
      "Error Ratio when loss is greater then 4000\n",
      "Negative error:  2939\n",
      "Positive error:  365\n"
     ]
    }
   ],
   "source": [
    "neg_error = 0\n",
    "pos_error = 0\n",
    "for index, row in temp_test.iterrows():\n",
    "    if np.abs(row['diff']) > 1000:\n",
    "        if row['diff'] < 0:\n",
    "            neg_error += 1\n",
    "        else:\n",
    "            pos_error += 1\n",
    "\n",
    "print(f'Error Ratio when loss is greater then {thres}')\n",
    "print(\"Negative error: \", neg_error)\n",
    "print(\"Positive error: \", pos_error)\n"
   ]
  },
  {
   "cell_type": "code",
   "execution_count": 39,
   "id": "eac71e97",
   "metadata": {},
   "outputs": [],
   "source": [
    "#We can see that when our original target i.e loss is greater then 4000, then our model make lost of negative errors\n",
    "#i.e Our model prediction is less then loss and differs by more then 1000"
   ]
  },
  {
   "cell_type": "code",
   "execution_count": 59,
   "id": "5ea7a03b",
   "metadata": {},
   "outputs": [
    {
     "data": {
      "text/plain": [
       "<matplotlib.legend.Legend at 0x24fc0224370>"
      ]
     },
     "execution_count": 59,
     "metadata": {},
     "output_type": "execute_result"
    },
    {
     "data": {
      "image/png": "[encoded data removed]",
      "text/plain": [
       "<Figure size 864x432 with 1 Axes>"
      ]
     },
     "metadata": {},
     "output_type": "display_data"
    }
   ],
   "source": [
    "#pdf on incorrect and correct predictions\n",
    "#sns display label \n",
    "sns.distplot(y_test[y_test['type'] == 0]['loss'], label='Correct Points')\n",
    "sns.distplot(y_test[y_test['type'] == 1]['loss'], label='Incorrect Points')\n",
    "plt.legend()"
   ]
  },
  {
   "cell_type": "code",
   "execution_count": 60,
   "id": "7b31188d",
   "metadata": {},
   "outputs": [],
   "source": [
    "#There is a hge overlap between the two pdf's, but still we can notice that for bigger loss values, \n",
    "#our model predicted values have\n",
    "#difference of more than 1100"
   ]
  }
 ],
 "metadata": {
  "kernelspec": {
   "display_name": "Python 3 (ipykernel)",
   "language": "python",
   "name": "python3"
  },
  "language_info": {
   "codemirror_mode": {
    "name": "ipython",
    "version": 3
   },
   "file_extension": ".py",
   "mimetype": "text/x-python",
   "name": "python",
   "nbconvert_exporter": "python",
   "pygments_lexer": "ipython3",
   "version": "3.10.4"
  }
 },
 "nbformat": 4,
 "nbformat_minor": 5
}
